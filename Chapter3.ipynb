{
  "nbformat": 4,
  "nbformat_minor": 0,
  "metadata": {
    "colab": {
      "name": "Chapter3.ipynb",
      "version": "0.3.2",
      "provenance": [],
      "include_colab_link": true
    },
    "kernelspec": {
      "name": "python3",
      "display_name": "Python 3"
    }
  },
  "cells": [
    {
      "cell_type": "markdown",
      "metadata": {
        "id": "view-in-github",
        "colab_type": "text"
      },
      "source": [
        "<a href=\"https://colab.research.google.com/github/naomori/codexa_DecisionTree_RandomForest/blob/master/Chapter3.ipynb\" target=\"_parent\"><img src=\"https://colab.research.google.com/assets/colab-badge.svg\" alt=\"Open In Colab\"/></a>"
      ]
    },
    {
      "cell_type": "markdown",
      "metadata": {
        "id": "6q4D3sJw7RUb",
        "colab_type": "text"
      },
      "source": [
        "# Section.4: ランダムフォレストで特徴選択"
      ]
    },
    {
      "cell_type": "code",
      "metadata": {
        "id": "QLc8RPmjXD2e",
        "colab_type": "code",
        "colab": {}
      },
      "source": [
        "# 必要なライブラリのインポート\n",
        "import pandas as pd\n",
        "from sklearn.ensemble import RandomForestClassifier\n",
        "from sklearn.datasets import load_wine"
      ],
      "execution_count": 0,
      "outputs": []
    },
    {
      "cell_type": "code",
      "metadata": {
        "id": "IlEFFL6T716l",
        "colab_type": "code",
        "colab": {}
      },
      "source": [
        "# Scikit-learnからワインデータセットを読み込む\n",
        "wine = load_wine()\n",
        "# wine は Bunch 型"
      ],
      "execution_count": 0,
      "outputs": []
    },
    {
      "cell_type": "code",
      "metadata": {
        "id": "P-Q-5aMj75Gi",
        "colab_type": "code",
        "colab": {}
      },
      "source": [
        "# 特徴量、ターゲット、特徴量の名前を切り分け\n",
        "X = wine.data\n",
        "y = wine.target \n",
        "features = wine.feature_names"
      ],
      "execution_count": 0,
      "outputs": []
    },
    {
      "cell_type": "code",
      "metadata": {
        "id": "ZKYcVsBp7_th",
        "colab_type": "code",
        "colab": {
          "base_uri": "https://localhost:8080/",
          "height": 140
        },
        "outputId": "3547c3de-9aff-4dca-c29c-aefe7cff6fc0"
      },
      "source": [
        "# ランダムフォレストのモデル訓練\n",
        "RF = RandomForestClassifier(n_estimators = 250, random_state = 42)\n",
        "RF.fit(X, y)"
      ],
      "execution_count": 6,
      "outputs": [
        {
          "output_type": "execute_result",
          "data": {
            "text/plain": [
              "RandomForestClassifier(bootstrap=True, class_weight=None, criterion='gini',\n",
              "                       max_depth=None, max_features='auto', max_leaf_nodes=None,\n",
              "                       min_impurity_decrease=0.0, min_impurity_split=None,\n",
              "                       min_samples_leaf=1, min_samples_split=2,\n",
              "                       min_weight_fraction_leaf=0.0, n_estimators=250,\n",
              "                       n_jobs=None, oob_score=False, random_state=42, verbose=0,\n",
              "                       warm_start=False)"
            ]
          },
          "metadata": {
            "tags": []
          },
          "execution_count": 6
        }
      ]
    },
    {
      "cell_type": "code",
      "metadata": {
        "id": "csXLijg18LuN",
        "colab_type": "code",
        "colab": {}
      },
      "source": [
        "# 訓練済みモデルから特徴量の重要度を取得\n",
        "importances = RF.feature_importances_"
      ],
      "execution_count": 0,
      "outputs": []
    },
    {
      "cell_type": "code",
      "metadata": {
        "id": "URWOG1AG8dP-",
        "colab_type": "code",
        "colab": {
          "base_uri": "https://localhost:8080/",
          "height": 70
        },
        "outputId": "ab78f0a6-da5b-4786-dee1-e6e93bf51498"
      },
      "source": [
        "# 重要度をプリント\n",
        "print(importances)"
      ],
      "execution_count": 8,
      "outputs": [
        {
          "output_type": "stream",
          "text": [
            "[0.1234456  0.02766905 0.0151606  0.03053054 0.02805836 0.0464776\n",
            " 0.17589757 0.00842494 0.02256246 0.16759517 0.07838747 0.10649693\n",
            " 0.1692937 ]\n"
          ],
          "name": "stdout"
        }
      ]
    },
    {
      "cell_type": "code",
      "metadata": {
        "id": "Yh6_jyIw8erT",
        "colab_type": "code",
        "colab": {
          "base_uri": "https://localhost:8080/",
          "height": 72
        },
        "outputId": "c9f13507-acb6-4844-e0c2-3d1a7bb9cb25"
      },
      "source": [
        "# 特徴量をプリント\n",
        "print(\"特徴量の重要度が高い順:\")\n",
        "print(sorted(zip(map(lambda x: round(x, 2), RF.feature_importances_), features), \n",
        "             reverse=True))"
      ],
      "execution_count": 10,
      "outputs": [
        {
          "output_type": "stream",
          "text": [
            "特徴量の重要度が高い順:\n",
            "[(0.18, 'flavanoids'), (0.17, 'proline'), (0.17, 'color_intensity'), (0.12, 'alcohol'), (0.11, 'od280/od315_of_diluted_wines'), (0.08, 'hue'), (0.05, 'total_phenols'), (0.03, 'malic_acid'), (0.03, 'magnesium'), (0.03, 'alcalinity_of_ash'), (0.02, 'proanthocyanins'), (0.02, 'ash'), (0.01, 'nonflavanoid_phenols')]\n"
          ],
          "name": "stdout"
        }
      ]
    },
    {
      "cell_type": "code",
      "metadata": {
        "id": "eQ8p7v8J8np_",
        "colab_type": "code",
        "colab": {}
      },
      "source": [
        ""
      ],
      "execution_count": 0,
      "outputs": []
    }
  ]
}